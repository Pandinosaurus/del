{
 "cells": [
  {
   "cell_type": "code",
   "execution_count": 1,
   "metadata": {
    "collapsed": false
   },
   "outputs": [],
   "source": [
    "import numpy as np\n",
    "import matplotlib.pyplot as plt\n",
    "import matplotlib.pylab as pylab\n",
    "%matplotlib inline\n",
    "from PIL import Image\n",
    "import sys\n",
    "import time\n",
    "\n",
    "# Make sure that caffe is on the python path:\n",
    "caffe_root = '../../'  # this file is expected to be in {caffe_root}/examples/hed/\n",
    "sys.path.insert(0, caffe_root + 'python')\n",
    "\n",
    "import caffe"
   ]
  },
  {
   "cell_type": "code",
   "execution_count": 2,
   "metadata": {
    "collapsed": false
   },
   "outputs": [],
   "source": [
    "color_table = np.array([  [  0,   0,   0],\n",
    "                          [128,   0,   0],\n",
    "                          [  0, 128,   0],\n",
    "                          [128, 128,   0],\n",
    "                          [  0,   0, 128],\n",
    "                          [128,   0, 128],\n",
    "                          [  0, 128, 128],\n",
    "                          [128, 128, 128],\n",
    "                          [ 64,   0,   0],\n",
    "                          [192,   0,   0],\n",
    "                          [ 64, 128,   0],\n",
    "                          [192, 128,   0],\n",
    "                          [ 64,   0, 128],\n",
    "                          [192,   0, 128],\n",
    "                          [ 64, 128, 128],\n",
    "                          [192, 128, 128],\n",
    "                          [  0,  64,   0],\n",
    "                          [128,  64,   0],\n",
    "                          [  0, 192,   0],\n",
    "                          [128, 192,   0],\n",
    "                          [  0,  64, 128] ])\n",
    "\n",
    "data_root = '../../data/SBD/'\n",
    "img_root = data_root + 'img/'\n",
    "\n",
    "with open(data_root+'val.txt') as f:\n",
    "    test_lst = f.readlines()    \n",
    "test_lst = [x.strip() for x in test_lst]"
   ]
  },
  {
   "cell_type": "code",
   "execution_count": 3,
   "metadata": {
    "collapsed": true
   },
   "outputs": [],
   "source": [
    "# Visualization\n",
    "def plot_single_scale(scale_lst, size):\n",
    "    pylab.rcParams['figure.figsize'] = size, size/2\n",
    "    \n",
    "    plt.figure()\n",
    "    for i in range(0, len(scale_lst)):\n",
    "        s=plt.subplot(1,2,i+1)\n",
    "        plt.imshow(scale_lst[i])\n",
    "        s.set_xticklabels([])\n",
    "        s.set_yticklabels([])\n",
    "        s.yaxis.set_ticks_position('none')\n",
    "        s.xaxis.set_ticks_position('none')\n",
    "    plt.tight_layout()"
   ]
  },
  {
   "cell_type": "code",
   "execution_count": 4,
   "metadata": {
    "collapsed": false
   },
   "outputs": [],
   "source": [
    "# remove the following two lines if testing with cpu\n",
    "caffe.set_mode_gpu()\n",
    "caffe.set_device(1)\n",
    "# load net\n",
    "net = caffe.Net('test.prototxt', 'snapshots/pretrain_sbd_iter_4000.caffemodel', caffe.TEST)"
   ]
  },
  {
   "cell_type": "code",
   "execution_count": 5,
   "metadata": {
    "collapsed": false
   },
   "outputs": [
    {
     "name": "stdout",
     "output_type": "stream",
     "text": [
      "Detection took 0.000s per image\n"
     ]
    }
   ],
   "source": [
    "start_time = time.time()\n",
    "for idx in [100]:\n",
    "    im = Image.open(img_root+test_lst[idx]+'.jpg')\n",
    "    in_ = np.array(im, dtype=np.float32)\n",
    "    in_ = in_[:,:,::-1]\n",
    "    in_ -= np.array((104.00698793,116.66876762,122.67891434))\n",
    "    in_ = in_.transpose((2, 0, 1))\n",
    "    \n",
    "    # shape for input (data blob is N x C x H x W), set data\n",
    "    net.blobs['data'].reshape(1, *in_.shape)\n",
    "    net.blobs['data'].data[...] = in_\n",
    "    # run net and take argmax for prediction\n",
    "    net.forward()\n",
    "    \n",
    "    # show results\n",
    "    out = net.blobs['score'].data[0].argmax(axis=0)\n",
    "    show = np.ndarray((out.shape[0],out.shape[1],3), dtype=np.uint8)\n",
    "    show = color_table[out][:,:,::-1]\n",
    "    plot_single_scale([im,show], 22)\n",
    "    \n",
    "diff_time = time.time() - start_time\n",
    "print 'Detection took {:.3f}s per image'.format(diff_time/len(test_lst))"
   ]
  },
  {
   "cell_type": "code",
   "execution_count": null,
   "metadata": {
    "collapsed": false
   },
   "outputs": [],
   "source": []
  }
 ],
 "metadata": {
  "kernelspec": {
   "display_name": "Python 2",
   "language": "python",
   "name": "python2"
  },
  "language_info": {
   "codemirror_mode": {
    "name": "ipython",
    "version": 2
   },
   "file_extension": ".py",
   "mimetype": "text/x-python",
   "name": "python",
   "nbconvert_exporter": "python",
   "pygments_lexer": "ipython2",
   "version": "2.7.12"
  }
 },
 "nbformat": 4,
 "nbformat_minor": 0
}
