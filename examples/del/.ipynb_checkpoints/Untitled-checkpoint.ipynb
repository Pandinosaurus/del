{
 "cells": [
  {
   "cell_type": "code",
   "execution_count": 1,
   "metadata": {},
   "outputs": [],
   "source": [
    "import numpy as np\n",
    "import matplotlib.pyplot as plt\n",
    "import matplotlib.pylab as pylab\n",
    "import scipy.io as sio\n",
    "%matplotlib inline\n",
    "from PIL import Image\n",
    "import os\n",
    "import sys\n",
    "import cv2\n",
    "import time\n",
    "\n",
    "## Make sure that caffe is on the python path:\n",
    "caffe_root = '../../'\n",
    "sys.path.insert(0, caffe_root + 'python')\n",
    "import caffe"
   ]
  },
  {
   "cell_type": "code",
   "execution_count": 2,
   "metadata": {},
   "outputs": [],
   "source": [
    "data_root = '../../data/BSDS500/'\n",
    "with open(data_root+'test_gpu.lst') as f:\n",
    "    test_lst = f.readlines()\n",
    "    \n",
    "img_lst = [x.strip().split()[0] for x in test_lst]\n",
    "sp_lst = [x.strip().split()[1] for x in test_lst]"
   ]
  },
  {
   "cell_type": "code",
   "execution_count": 3,
   "metadata": {},
   "outputs": [],
   "source": [
    "## Principal Component Analysis (PCA)\n",
    "def pca(data, n):\n",
    "    newData = data - np.mean(data, axis=0)\n",
    "    covMat = np.cov(newData, rowvar=0)\n",
    "    eigVals,eigVects = np.linalg.eig(np.mat(covMat))\n",
    "    eigValIndice = np.argsort(eigVals)            \n",
    "    n_eigValIndice = eigValIndice[-1:-(n+1):-1] \n",
    "    n_eigVect = eigVects[:,n_eigValIndice]        \n",
    "    lowDDataMat = newData*n_eigVect\n",
    "    \n",
    "    return lowDDataMat"
   ]
  },
  {
   "cell_type": "code",
   "execution_count": 4,
   "metadata": {},
   "outputs": [],
   "source": [
    "## Visualization\n",
    "def plot_single_scale(scale_lst, size):\n",
    "    pylab.rcParams['figure.figsize'] = size, size/2\n",
    "    plt.figure()\n",
    "    for i in range(0, len(scale_lst)):\n",
    "        s=plt.subplot(1,2,i+1)\n",
    "        plt.imshow(scale_lst[i])\n",
    "        s.set_xticklabels([])\n",
    "        s.set_yticklabels([])\n",
    "        s.yaxis.set_ticks_position('none')\n",
    "        s.xaxis.set_ticks_position('none')\n",
    "    plt.tight_layout()"
   ]
  },
  {
   "cell_type": "code",
   "execution_count": 5,
   "metadata": {},
   "outputs": [],
   "source": [
    "color_table = np.array([ [128,   0,   0], [  0, 128,   0], [128, 128,   0], [  0,   0, 128], [128,   0, 128],\n",
    "        [  0, 128, 128], [128, 128, 128], [ 64,   0,   0], [192,   0,   0], [ 64, 128,   0], [192, 128,   0],\n",
    "        [ 64,   0, 128], [192,   0, 128], [ 64, 128, 128], [192, 128, 128], [  0,  64,   0], [128,  64,   0],\n",
    "        [  0, 192,   0], [128, 192,   0], [  0,  64, 128] ])"
   ]
  },
  {
   "cell_type": "code",
   "execution_count": 6,
   "metadata": {},
   "outputs": [],
   "source": [
    "## remove the following two lines if testing with cpu\n",
    "caffe.set_mode_gpu()\n",
    "caffe.set_device(1)\n",
    "## load net\n",
    "net = caffe.Net('test.prototxt', 'snapshots/image_segment_net_iter_10000.caffemodel', caffe.TEST)\n",
    "\n",
    "save_root = '/home/liuyun/LiuYun/Code/DEL/data/seism/datasets/BSDS500/DeepSeg3/' #'../../data/BSDS500/DeepSeg2/'\n",
    "if not os.path.exists(save_root):\n",
    "    os.mkdir(save_root)"
   ]
  },
  {
   "cell_type": "code",
   "execution_count": 7,
   "metadata": {},
   "outputs": [
    {
     "name": "stdout",
     "output_type": "stream",
     "text": [
      "Detection took 15.128s per image\n"
     ]
    }
   ],
   "source": [
    "start_time = time.time()\n",
    "bound = range(350,351)\n",
    "\n",
    "for i in range(len(bound)):\n",
    "    threshold = bound[i] / 100.0\n",
    "    if threshold <= 0.3:\n",
    "        min_size = [0, 1, 2, 3]\n",
    "    else:\n",
    "        min_size = [0, 1, 2, 3, 4, 5, 6, 7, 8, 9, 10]\n",
    "    min_size = [3]\n",
    "    for j in range(len(min_size)):\n",
    "        new_save_root = os.path.join(save_root, 'threshold_{:.2f}_{}'.format(threshold, min_size[j]))\n",
    "        if not os.path.exists(new_save_root):\n",
    "            os.mkdir(new_save_root)\n",
    "\n",
    "        for idx in range(len(test_lst)):\n",
    "            ## load and prepare an image\n",
    "            im = Image.open(data_root+img_lst[idx])\n",
    "            in_ = np.array(im, dtype=np.float32)\n",
    "            in_ = in_[:,:,::-1]\n",
    "            in_ -= np.array((104.00698793,116.66876762,122.67891434))\n",
    "            in_ = in_.transpose((2,0,1))\n",
    "            sp_ = cv2.imread(data_root+sp_lst[idx], cv2.IMREAD_ANYDEPTH)\n",
    "            sp_ = sp_.astype(dtype=np.float32)\n",
    "            ## shape for input (data blob is N x C x H x W), set data\n",
    "            net.blobs['data'].reshape(1, *in_.shape)\n",
    "            net.blobs['data'].data[...] = in_\n",
    "            net.blobs['sp_label'].reshape(1, 1, *sp_.shape)\n",
    "            net.blobs['sp_label'].data[...] = sp_\n",
    "            net.blobs['bound_param'].reshape(1, 1, 1, 1)\n",
    "            net.blobs['bound_param'].data[...] = threshold \n",
    "            net.blobs['minsize_param'].reshape(1, 1, 1, 1)\n",
    "            net.blobs['minsize_param'].data[...] = min_size[j]\n",
    "            net.forward()\n",
    "            ## segment the image in the network\n",
    "            out3 = net.blobs['segmentation'].data[0].copy()\n",
    "            out3 = out3.transpose((1, 2, 0)).astype(dtype=np.uint16)\n",
    "            #out4 = cv2.resize(out3, (out3.shape[1]*2+1, out3.shape[0]*2+1), interpolation = cv2.INTER_NEAREST)\n",
    "            #cv2.imwrite(new_save_root + '/' + img_lst[idx][11:-4] + '.png', out3)\n",
    "            sio.savemat(new_save_root + '/' + img_lst[idx][11:-4] + '.mat', {'Segmentation': out3})            \n",
    "diff_time = time.time() - start_time\n",
    "print 'Detection took {:.3f}s per image'.format(diff_time/len(test_lst))"
   ]
  },
  {
   "cell_type": "code",
   "execution_count": null,
   "metadata": {},
   "outputs": [],
   "source": []
  }
 ],
 "metadata": {
  "kernelspec": {
   "display_name": "Python 2",
   "language": "python",
   "name": "python2"
  },
  "language_info": {
   "codemirror_mode": {
    "name": "ipython",
    "version": 2
   },
   "file_extension": ".py",
   "mimetype": "text/x-python",
   "name": "python",
   "nbconvert_exporter": "python",
   "pygments_lexer": "ipython2",
   "version": "2.7.12"
  }
 },
 "nbformat": 4,
 "nbformat_minor": 2
}
